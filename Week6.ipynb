{
 "cells": [
  {
   "cell_type": "code",
   "execution_count": null,
   "metadata": {},
   "outputs": [],
   "source": [
    "## CS1 STRINGS ##\n",
    "reverse = lambda s: s[::-1]"
   ]
  },
  {
   "cell_type": "code",
   "execution_count": null,
   "metadata": {},
   "outputs": [],
   "source": [
    "## CS2 CHECK PASSWORD ##\n",
    "def check_password(password):\n",
    " invalidChars = \"_]*$^%#@!&*()_+-=`~<>,./?;':{}\\|\"  \n",
    " if len(password) >= 8:\n",
    "  if all(char not in invalidChars for char in password):  \n",
    "   if sum([c.isdigit() for c in password]) >= 2:\n",
    "      return True \n",
    "   else:\n",
    "      return False\n",
    "  else:\n",
    "    return False\n",
    " else:\n",
    "    return False  "
   ]
  },
  {
   "cell_type": "code",
   "execution_count": null,
   "metadata": {},
   "outputs": [],
   "source": [
    "## CS3 LONGEST PREFIX ##\n",
    "def longest_common_prefix(string1,string2):\n",
    "  i = 0\n",
    "  for i, (x, y) in enumerate(zip(string1 +'3',string2 +'2')):\n",
    "    if x!=y: break\n",
    "  return string2[:i]\n",
    "# import os\n",
    "# longest_common_prefix = lambda a,b: os.path.commonprefix([a,b])"
   ]
  },
  {
   "cell_type": "code",
   "execution_count": null,
   "metadata": {},
   "outputs": [],
   "source": [
    "## CS4 FILES I/O ##\n",
    "class Coordinate:\n",
    "    x = 0\n",
    "    y = 0\n",
    "mag = lambda a,b:((a**2 +b**2)**.5 )  \n",
    "def get_maxmin_mag(f):\n",
    "    ls,xy,yx=[],[],[]\n",
    "    r = f.readlines()\n",
    "    rr = [i.split() for i in r]\n",
    "    for i in range(len(rr)):\n",
    "     x,y = rr[i][0],rr[i][1]\n",
    "     xy.append(rr[i][0])\n",
    "     yx.append(rr[i][1])   \n",
    "     ls.append(mag(float(x),float(y)))\n",
    "    xx,yy = ls.index(max(ls)), ls.index(min(ls))\n",
    "    p1 = Coordinate()\n",
    "    p1.x =float(xy[xx])\n",
    "    p1.y =float(yx[xx])\n",
    "    p2 = Coordinate()\n",
    "    p2.x=float(xy[yy])\n",
    "    p2.y=float(yx[yy])\n",
    "    return p1,p2"
   ]
  },
  {
   "cell_type": "code",
   "execution_count": null,
   "metadata": {},
   "outputs": [],
   "source": [
    "## HW1 BINARY TO DECIMAL ##\n",
    "binary_to_decimal = lambda x : int(x,2)"
   ]
  },
  {
   "cell_type": "code",
   "execution_count": null,
   "metadata": {},
   "outputs": [],
   "source": [
    "## HW2 UNCOMPRESSED ##\n",
    "def uncompressed(string):\n",
    " ls = list(string) \n",
    " for i in range(len(ls)):\n",
    "  if ls[i].isdigit():\n",
    "   ls[i+1] *= int(ls[i])\n",
    " return \"\".join([i for i in ls if not i.isdigit()]) "
   ]
  },
  {
   "cell_type": "code",
   "execution_count": null,
   "metadata": {},
   "outputs": [],
   "source": [
    "## HW3 DNA2 ##\n",
    "def get_base_counts2(dna):\n",
    "    if any(not c.isalpha() for c in dna) or any(c.islower() for c in dna):\n",
    "     return 'The input DNA string is invalid'   \n",
    "    else:\n",
    "     return {'A': dna.count('A') , 'C': dna.count('C') , 'G': dna.count('G') ,'T': dna.count('T')}"
   ]
  },
  {
   "cell_type": "code",
   "execution_count": null,
   "metadata": {},
   "outputs": [],
   "source": [
    "## HW4 FUNDAMENTAL CONSTANTS ##\n",
    "def get_fundamental_constants(f):\n",
    "    readline = f.readlines() # use f.read().split() to avoid list comprehension later\n",
    "    return dict(zip([[x.split() for x in readline][2:][i][0] for i in range(len(readline)-2)], list(map(float,[[x.split() for x in readline][2:][i][1] for i in range(len(readline)-2)]))))"
   ]
  },
  {
   "cell_type": "code",
   "execution_count": null,
   "metadata": {},
   "outputs": [],
   "source": [
    "## HW5 PROCESS SCORES ##\n",
    "def process_scores(f):\n",
    "    readline = f.read().split()\n",
    "    return sum(float(readline)), sum(float(readline))/len(readline)\n"
   ]
  },
  {
   "cell_type": "code",
   "execution_count": null,
   "metadata": {},
   "outputs": [],
   "source": []
  },
  {
   "cell_type": "code",
   "execution_count": null,
   "metadata": {},
   "outputs": [],
   "source": []
  },
  {
   "cell_type": "code",
   "execution_count": null,
   "metadata": {},
   "outputs": [],
   "source": []
  },
  {
   "cell_type": "code",
   "execution_count": null,
   "metadata": {},
   "outputs": [],
   "source": []
  }
 ],
 "metadata": {
  "kernelspec": {
   "display_name": "Python 3",
   "language": "python",
   "name": "python3"
  },
  "language_info": {
   "codemirror_mode": {
    "name": "ipython",
    "version": 3
   },
   "file_extension": ".py",
   "mimetype": "text/x-python",
   "name": "python",
   "nbconvert_exporter": "python",
   "pygments_lexer": "ipython3",
   "version": "3.7.0"
  }
 },
 "nbformat": 4,
 "nbformat_minor": 2
}
