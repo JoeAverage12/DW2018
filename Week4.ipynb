{
 "cells": [
  {
   "cell_type": "code",
   "execution_count": null,
   "metadata": {},
   "outputs": [],
   "source": [
    "## CS1 LISTS ##\n",
    "a) 1\n",
    "b) a\n",
    "c) 1\n",
    "d) [0,0,0,1]\n",
    "e) [1,0,0,1]\n",
    "f) [Error, [1,0], Error, [1,2]]"
   ]
  },
  {
   "cell_type": "code",
   "execution_count": null,
   "metadata": {},
   "outputs": [],
   "source": [
    "## CS2 COMPOUND VALUE ##\n",
    "def compound_value_sixth_month(amt, rate):\n",
    "  amt1 = (amt)*(1 + rate/12.)  \n",
    "  for x in range(months-1):\n",
    "   amt1 = (amt + amt1)*(1 + rate/12.)  \n",
    "  return round(amt1,2) "
   ]
  },
  {
   "cell_type": "code",
   "execution_count": null,
   "metadata": {},
   "outputs": [],
   "source": [
    "## CS3 FIND AVERAGE ##\n",
    "import numpy as np\n",
    "def find_average(lst):\n",
    " avg, avg_all = [], []\n",
    " for i in range(len(lst)):\n",
    "  avg.append(0.0) if lst[i] == [] else avg.append(np.mean(lst[i]))          \n",
    " for sublist in lst:\n",
    "  for i in sublist:\n",
    "   avg_all.append(i)\n",
    " return avg, np.mean(avg_all)    "
   ]
  },
  {
   "cell_type": "code",
   "execution_count": null,
   "metadata": {},
   "outputs": [],
   "source": [
    "## CS4 TRANSPOSE MATRIX ##\n",
    "def transpose_matrix(matrix):\n",
    " return [[matrix[j][i] for j in range(len(matrix))] for i in range(len(matrix[0]))]\n",
    "# transpose_matrix = lambda matrix : [[matrix[j][i] for j in range(len(matrix))] for i in range(len(matrix[0]))]\n",
    "# def transpose_matrix(matrix):\n",
    "#     tm = [] \n",
    "#     for col in range(len(matrix[0])): \n",
    "#         new = [] #list of new values\n",
    "#         for row in range(len(matrix)): \n",
    "#             new.append(matrix[row][col]) \n",
    "#         tm.append(new)\n",
    "#     return tm"
   ]
  },
  {
   "cell_type": "code",
   "execution_count": null,
   "metadata": {},
   "outputs": [],
   "source": [
    "## CS5 GET DETAILS ##\n",
    "def get_details(name, key, lst):\n",
    "    if name == \"Andrew\":\n",
    "        return lst[0].get(key, None)\n",
    "    elif name == \"Bobby\":\n",
    "        return lst[1].get(key, None)\n",
    "    else:\n",
    "        return None                                                                                                                "
   ]
  },
  {
   "cell_type": "code",
   "execution_count": null,
   "metadata": {},
   "outputs": [],
   "source": [
    "## CS6 GET BASE COUNT ##\n",
    "def get_base_counts(dna):\n",
    "    allowed = ['A','T','C','G']\n",
    "    if any(c not in allowed or c.islower() for c in dna):\n",
    "     return 'The input DNA string is invalid'   \n",
    "    else:\n",
    "     return {'A': dna.count('A') , 'C': dna.count('C') , 'G': dna.count('G') ,'T': dna.count('T')}"
   ]
  },
  {
   "cell_type": "code",
   "execution_count": null,
   "metadata": {},
   "outputs": [],
   "source": [
    "## HW1 GET CONVERSION TABLE ##\n",
    "def f_to_c(f):\n",
    " return round((f-32)*5/9.,1)\n",
    "\n",
    "def f_to_c_approx(f):\n",
    " return round((f-30)/2.,1)\n",
    "\n",
    "def get_conversion_table_a():\n",
    " table_a =[]\n",
    " for i in range(0,110,10):\n",
    "  table_a.append([i, f_to_c(i), f_to_c_approx(i)])\n",
    " return table_a        \n",
    " \n",
    "def get_conversion_table_b():\n",
    " table_i, table_f, table_f_approx =[], [], []\n",
    " for i in range(0,110,10):\n",
    "  table_i.append(i)\n",
    "  table_f.append(f_to_c(i))\n",
    "  table_f_approx.append(f_to_c_approx(i)) \n",
    " return [table_i, table_f, table_f_approx]"
   ]
  },
  {
   "cell_type": "code",
   "execution_count": null,
   "metadata": {},
   "outputs": [],
   "source": [
    "## HW2 MAX IN LIST ##\n",
    "def max_list(inlist):\n",
    " outlist = []\n",
    " for sublist in inlist:\n",
    "    outlist.append(max(sublist))\n",
    " return outlist   "
   ]
  },
  {
   "cell_type": "code",
   "execution_count": null,
   "metadata": {},
   "outputs": [],
   "source": [
    "## HW3 MULTIPLICATION TABLE ##\n",
    "def multiplication_table(n): \n",
    "  return list(list(range(1*i,(n+1)*i, i)) for i in range(1,n+1)) if n >= 1 else None  \n",
    "# multiplication_table = lambda n : list(list(range(1*i,(n+1)*i, i)) for i in range(1,n+1)) if n >= 1 else None "
   ]
  },
  {
   "cell_type": "code",
   "execution_count": null,
   "metadata": {},
   "outputs": [],
   "source": [
    "## HW4 MOST FREQUENT ##\n",
    "def most_frequent(lst):\n",
    "    count_dict = {}\n",
    "    for i in lst:\n",
    "        if count_dict.get(i) == None:\n",
    "            count_dict.update({i : lst.count(i)})\n",
    "    return [x for x in count_dict.keys() if count_dict[x] == max(count_dict.values())]"
   ]
  },
  {
   "cell_type": "code",
   "execution_count": null,
   "metadata": {},
   "outputs": [],
   "source": [
    "## HW5 DIFF ##\n",
    "def diff(p):\n",
    " return {i - 1: i*p[i] for i in p if i != 0}\n",
    "# diff = lambda p : {i - 1: i*p[i] for i in p if i != 0}"
   ]
  },
  {
   "cell_type": "code",
   "execution_count": null,
   "metadata": {},
   "outputs": [],
   "source": [
    "## EX1 TYPES ##\n",
    "a) a = int, b = tuples\n",
    "b) b, e, f\n",
    "c) a = b = [1,2,3,1,2,3], c = [2,]"
   ]
  },
  {
   "cell_type": "code",
   "execution_count": null,
   "metadata": {},
   "outputs": [],
   "source": [
    "## EX2 INTERLOCK ##\n",
    "def interlock(s1, s2, s3):\n",
    " r = 1\n",
    " l1 = list(s1)\n",
    " l2 = list(s2)\n",
    " inters = ''  \n",
    " if not any(s1 or s2 or s3):\n",
    "  return False \n",
    " elif len(s2) == len(s1):      \n",
    "  for i in range(len(s1)):\n",
    "   inters += s1[i]\n",
    "   inters += s2[i]\n",
    " elif len(s1) < len(s2):\n",
    "  for i in range(len(s1)):\n",
    "   inters += s2[i]\n",
    "   inters += s1[i]\n",
    "   r = i+1\n",
    "   inters += s2[r]\n",
    " elif len(s2) < len(s1):\n",
    "   for i in range(len(s2)):\n",
    "    inters += s1[i]\n",
    "    inters += s2[i]\n",
    "    r = i+1\n",
    "    inters += s1[r]\n",
    "  return inters == s3\n",
    "def interlock(word1, word2, word3):                                                                                                                                                                 \n",
    " long, short = None, None                                                                                                                                                                        \n",
    " if len(word1) > len(word2):                                                                                                                                                                     \n",
    "  long = word1                                                                                                                                                                                \n",
    "  short = word2                                                                                                                                                                               \n",
    " else:                                                                                                                                                                                           \n",
    "  long = word2                                                                                                                                                                                \n",
    "  short = word1                                                                                                                                                                                                                                                                                                                                                                                      \n",
    " interlocked = ''                                                                                                                                                                                \n",
    " for i in range(len(short)):                                                                                                                                                                     \n",
    "  interlocked += word1[i] + word2[i]                                                                                                                                                                                                   \n",
    "  if word3 and word3 == interlocked + long[len(short):]:\n",
    "  return True                                                                                                                                                                                 \n",
    " return False "
   ]
  },
  {
   "cell_type": "code",
   "execution_count": 4,
   "metadata": {},
   "outputs": [
    {
     "name": "stdout",
     "output_type": "stream",
     "text": [
      "0.31\n"
     ]
    }
   ],
   "source": [
    "## EX3 DICE SIMULATOR ##\n",
    "import random\n",
    "random.seed(100)\n",
    "throw_dice = lambda n, num_experiments: round(sum(any(random.randint(1,6) == 6 for die in range(n)) for trial in range(num_experiments))/num_experiments,2)\n",
    "#random.seed(100) # set a fixed seed\n",
    "#def throw_dice(n, num_experiments):\n",
    "# prob = sum(any(random.randint(1,6) == 6 for die in range(n)) for trial in range(num_experiments))/num_experiments\n",
    "# return round(prob,2)\n"
   ]
  },
  {
   "cell_type": "code",
   "execution_count": null,
   "metadata": {},
   "outputs": [],
   "source": [
    "## EX4 MONTE CARLO PI ##\n",
    "import random as r\n",
    "r.seed(100)\n",
    "import math as m\n",
    "def pi_approx_by_monte_carlo(n):\n",
    " inside = 0\n",
    " for i in range(0, n):\n",
    "  x2 = r.random()**2\n",
    "  y2 = r.random()**2\n",
    "  if m.sqrt(x2 + y2) < 1.0:\n",
    "   inside += 1\n",
    " pi = (float(inside) / n) * 4\n",
    " return round(pi,2)"
   ]
  },
  {
   "cell_type": "code",
   "execution_count": null,
   "metadata": {},
   "outputs": [],
   "source": [
    "## DW CHEM Q6 LINSPACE ##\n",
    "def linspace(start,stop,num=50):\n",
    "    diff = stop - start\n",
    "    increment = diff / (num - 1) \n",
    "    ans_list = [] \n",
    "    ans_list.append(start) \n",
    "    i = start + increment \n",
    "    while abs(i - stop) > 1e-10: \n",
    "        ans_list.append(round(i,5))\n",
    "        i+=increment\n",
    "    ans_list.append(stop)\n",
    "    return ans_list"
   ]
  },
  {
   "cell_type": "code",
   "execution_count": null,
   "metadata": {},
   "outputs": [],
   "source": [
    "## DW CHEM Q7 MESHGRID ##\n",
    "def meshgrid(*args):\n",
    "    output_list = []\n",
    "    \n",
    "    x_list = []\n",
    "    inner_list = []\n",
    "    inner_list.append([[round(float(x), 1)] * len(args[2]) for x in args[0]])\n",
    "    for i in inner_list:\n",
    "        x_list += [i] * len(args[1])\n",
    "    output_list.append(x_list)\n",
    "\n",
    "    y_list = []\n",
    "    inner_list = [[round(float(x), 1)] * len(args[2]) for x in args[1]]\n",
    "    y_list = [[x] * len(args[0]) for x in inner_list]\n",
    "    output_list.append(y_list)\n",
    "\n",
    "    z_list = []  \n",
    "    for i in args[-1]:\n",
    "        z_list.append(round(float(i), 1))\n",
    "        \n",
    "    mixing_list = []     \n",
    "    for i in range(len(args[0])):\n",
    "        mixing_list.append(z_list) \n",
    "        \n",
    "    all_list = []    \n",
    "    for i in args[1]:\n",
    "        all_list.append(mixing_list)     \n",
    "    output_list.append(all_list)\n",
    "    return tuple(output_list)\n",
    "#meshgrid= lambda x, y, z:[[[x_ for  _ in z] for x_ in x] for  _ in y], [[[y_ for  _ in z] for  _ in x] for y_ in y],[[[z_ for z_ in z] for  _ in x] for  _ in y]"
   ]
  },
  {
   "cell_type": "code",
   "execution_count": null,
   "metadata": {},
   "outputs": [],
   "source": []
  },
  {
   "cell_type": "code",
   "execution_count": null,
   "metadata": {},
   "outputs": [],
   "source": []
  }
 ],
 "metadata": {
  "kernelspec": {
   "display_name": "Python 3",
   "language": "python",
   "name": "python3"
  },
  "language_info": {
   "codemirror_mode": {
    "name": "ipython",
    "version": 3
   },
   "file_extension": ".py",
   "mimetype": "text/x-python",
   "name": "python",
   "nbconvert_exporter": "python",
   "pygments_lexer": "ipython3",
   "version": "3.6.3"
  }
 },
 "nbformat": 4,
 "nbformat_minor": 2
}
