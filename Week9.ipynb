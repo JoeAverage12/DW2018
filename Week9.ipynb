{
 "cells": [
  {
   "cell_type": "code",
   "execution_count": 1,
   "metadata": {},
   "outputs": [],
   "source": [
    "## CS1 COKE ##\n",
    "from libdw import sm\n",
    "class CM(sm.SM):\n",
    "    start_state = 0\n",
    "    def get_next_values(self,state, inp):\n",
    "        if state == 0 and inp == 50:\n",
    "            return (1, (50, '--',0))\n",
    "        if state == 1 and inp == 50:      \n",
    "            return (0, (0, 'coke',0))\n",
    "        if state == 1 and inp == 100:\n",
    "            return (0, (0,'coke',50))\n",
    "        if state == 0 and inp == 100:\n",
    "            return (0, (0,'coke',0))\n",
    "        else:\n",
    "            return (0, (0,'--',inp))"
   ]
  },
  {
   "cell_type": "code",
   "execution_count": null,
   "metadata": {},
   "outputs": [],
   "source": [
    "## CS2 SIMPLE ACCOUNT ##\n",
    "from libdw import sm\n",
    "class SimpleAccount(sm.SM):\n",
    "    def __init__(self, start_deposit):\n",
    "        self.M = start_deposit\n",
    "        \n",
    "    def get_next_values(self, state, inp):\n",
    "       state = self.M \n",
    "       if self.M < 100 and inp < 0:\n",
    "        self.M = state + inp - 5\n",
    "        return self.M, self.M\n",
    "       else:\n",
    "        self.M = state + inp    \n",
    "        return self.M, self.M  "
   ]
  },
  {
   "cell_type": "code",
   "execution_count": null,
   "metadata": {},
   "outputs": [],
   "source": [
    "## HW1 COMMENTS ##\n",
    "from libdw import sm\n",
    "class CommentsSM(sm.SM):\n",
    "    start_state = 0\n",
    "    def get_next_values(self, state, inp):\n",
    "        if state == 0 and inp != '#':\n",
    "         return (0, None)\n",
    "        if state == 0 and inp == '#':\n",
    "         return (1, inp)\n",
    "        if state == 1 and inp !='\\n':\n",
    "         return (1, inp)\n",
    "        if state == 1 and inp == '\\n':\n",
    "         return (0, None)    "
   ]
  },
  {
   "cell_type": "code",
   "execution_count": null,
   "metadata": {},
   "outputs": [],
   "source": [
    "## HW2 FIRST WORD ##\n",
    "from libdw import sm\n",
    "class FirstWordSM(sm.SM):\n",
    "    start_state = 0\n",
    "    def get_next_values(self, state, inp):\n",
    "        if state == 0 and inp in [' ','\\n']:\n",
    "         return (0, None)\n",
    "        if state == 0 and inp not in [' ','\\n']:\n",
    "         return (1, inp)\n",
    "        if state == 1 and inp == ' ':\n",
    "         return (2, None)\n",
    "        if state == 1 and inp != ' ':\n",
    "         return (1, inp)\n",
    "        if state == 2 and inp !='\\n':\n",
    "         return (2, None)\n",
    "        if state == 2 and inp == '\\n':\n",
    "         return (0, None)"
   ]
  },
  {
   "cell_type": "markdown",
   "metadata": {},
   "source": [
    "Consider a state machine with:\n",
    "Q1: <br>\n",
    "inputs: 0, 1, 2<br>\n",
    "states: 0, 1, 2, 3<br>\n",
    "outputs: 0, 1, 2, 3<br>\n",
    "initial state: 0<br>\n",
    "transition function: <br>\n",
    " \t \t \t \n",
    "States   00 0   0\t1\t2<br>\n",
    "old state: 0\t1\t3\t0<br>\n",
    "old state: 1\t2\t0\t0<br>\n",
    "old state: 2\t3\t1\t0<br>\n",
    "old state: 3\t0\t2\t0<br>\n",
    "output function: same as transition function<br>\n",
    "It maybe helpful for you to draw a state diagram of this machine, to visualize its operation.<br>\n",
    "\n",
    "What is the best description of this machine?\n",
    "\n",
    "Ans:<br>\t\t\n",
    "It counts forward and backward mod 4, and has a reset input.\n",
    "Q2: <br>\n",
    "Input: [0,0,2,0,0,0,1,1,1]\n",
    "Output: [1,2,0,1,2,3,2,1,0]\n",
    "Q3: <br>\n",
    "Output: [3,2,0,1,2,3]\n",
    "Input: [1,1,2,0,0,0]"
   ]
  },
  {
   "cell_type": "code",
   "execution_count": null,
   "metadata": {},
   "outputs": [],
   "source": [
    "class Turnstile(sm.SM):\n",
    "  start_state = 'locked'\n",
    "  def get_next_values(self, state, inp):\n",
    "    if state == 'locked':\n",
    "      if inp == 'coin':\n",
    "        return ('unlocked', 'enter')\n",
    "      else:\n",
    "        return ('locked', 'pay')\n",
    "    else:\n",
    "      if inp == 'turn':\n",
    "        return ('locked', 'pay')\n",
    "      else:\n",
    "        return ('unlocked', 'enter')"
   ]
  },
  {
   "cell_type": "code",
   "execution_count": null,
   "metadata": {},
   "outputs": [],
   "source": []
  },
  {
   "cell_type": "code",
   "execution_count": null,
   "metadata": {},
   "outputs": [],
   "source": []
  }
 ],
 "metadata": {
  "kernelspec": {
   "display_name": "Python 3",
   "language": "python",
   "name": "python3"
  },
  "language_info": {
   "codemirror_mode": {
    "name": "ipython",
    "version": 3
   },
   "file_extension": ".py",
   "mimetype": "text/x-python",
   "name": "python",
   "nbconvert_exporter": "python",
   "pygments_lexer": "ipython3",
   "version": "3.6.3"
  }
 },
 "nbformat": 4,
 "nbformat_minor": 2
}
